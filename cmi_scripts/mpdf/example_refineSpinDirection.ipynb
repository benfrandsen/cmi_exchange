{
 "cells": [
  {
   "cell_type": "markdown",
   "metadata": {},
   "source": [
    "# Refining the spin direction"
   ]
  },
  {
   "cell_type": "markdown",
   "metadata": {},
   "source": [
    "This notebook provides examples of two methods for refining the spin direction: \n",
    "   1. Updating the basis vector(s) and calling the makeSpins() function, which is a very general method and will work for magnetic structures of arbitrary complexity;\n",
    "   2. Storing the locations of the \"up\" spins and \"down\" spins and updating them without calling makeSpins(), which is faster and well suited for simple collinear magnetic structures."
   ]
  },
  {
   "cell_type": "code",
   "execution_count": null,
   "metadata": {
    "collapsed": true
   },
   "outputs": [],
   "source": [
    "### Import the necessary libraries\n",
    "import numpy as np\n",
    "import matplotlib.pyplot as plt\n",
    "from diffpy.mpdf import *\n",
    "from diffpy.Structure import loadStructure\n",
    "from scipy.optimize import least_squares\n",
    "\n",
    "### Set all plots to be inline\n",
    "%matplotlib notebook"
   ]
  },
  {
   "cell_type": "code",
   "execution_count": null,
   "metadata": {
    "collapsed": false
   },
   "outputs": [],
   "source": [
    "### Make the magnetic structure\n",
    "PDFguiFile = 'MnOpdfgui.ddp'\n",
    "struc = getStrucFromPDFgui(PDFguiFile,1)\n",
    "\n",
    "th0, phi0 = np.arccos(np.random.uniform(-1,1)),np.random.uniform(-np.pi,np.pi)\n",
    "svec = np.array([np.sin(th0)*np.cos(phi0),np.sin(th0)*np.sin(phi0),np.cos(th0)])\n",
    "msp = MagSpecies(struc,magIdxs=[0,1,2,3],ffparamkey='Mn2',rmaxAtoms=50,basisvecs=svec,\n",
    "                kvecs=np.array([0.5,0.5,0.5]),label=str(0))\n",
    "\n",
    "mstr=MagStructure()\n",
    "mstr.loadSpecies(msp)\n",
    "mstr.makeAll()\n",
    "\n",
    "\n",
    "### Get the data and make the calculator\n",
    "r,d = getDiffData(PDFguiFile)\n",
    "\n",
    "mc = MPDFcalculator(mstr)\n",
    "mc.rmin = r.min()\n",
    "mc.rmax = r.max()"
   ]
  },
  {
   "cell_type": "markdown",
   "metadata": {},
   "source": [
    "### Define a residual function that allows moment directions to vary"
   ]
  },
  {
   "cell_type": "code",
   "execution_count": null,
   "metadata": {
    "collapsed": false
   },
   "outputs": [],
   "source": [
    "def residual(p,ydata):\n",
    "    oscale,pscale,damp,th,phi = p\n",
    "    newsvec = np.array([np.sin(th)*np.cos(phi),np.sin(th)*np.sin(phi),np.cos(th)])\n",
    "    mstr.species['0'].basisvecs = newsvec\n",
    "    mstr.makeSpins()\n",
    "    mc.ordScale = oscale\n",
    "    mc.paraScale = pscale\n",
    "    mc.dampRate = damp\n",
    "    return ydata - mc.calc(both=True)[2]\n",
    "\n",
    "p0 = [0.1,0.1,0.1,np.arccos(np.random.uniform(-1,1)),np.random.uniform(-np.pi,np.pi)]\n",
    "optimized = least_squares(residual,p0,bounds=[[0,0,0,0,-np.pi],[10,10,10,np.pi,np.pi]],\n",
    "                          args=(d,))\n",
    "fit = mc.calc(both=True)[2]\n",
    "\n",
    "fig=plt.figure()\n",
    "ax=fig.add_subplot(111)\n",
    "ax.plot(r,d,'bo',linestyle='none')\n",
    "ax.plot(r,fit,'r-',lw=2)\n",
    "ax.set_xlabel('r ($\\AA$)')\n",
    "ax.set_ylabel('D($\\AA^{-2}$)')\n",
    "\n",
    "plt.show()    "
   ]
  },
  {
   "cell_type": "markdown",
   "metadata": {},
   "source": [
    "### Visualize the refined magnetic structure"
   ]
  },
  {
   "cell_type": "code",
   "execution_count": null,
   "metadata": {
    "collapsed": false
   },
   "outputs": [],
   "source": [
    "### Visualize the magnetic structure\n",
    "uc = struc[:4].xyz\n",
    "visatoms = uc.copy()\n",
    "visatoms = np.concatenate((visatoms,visatoms+np.array([0,0,1]),visatoms+np.array([0,1,0]),visatoms+np.array([0,0,1])))\n",
    "visatoms = struc.lattice.cartesian(visatoms)\n",
    "visspins = mstr.spinsFromAtoms(visatoms,fractional=False)\n",
    "mstr.visualize(visatoms,visspins)\n",
    "\n",
    "print mstr.spins[0], (mstr.spins[0]).sum()"
   ]
  },
  {
   "cell_type": "markdown",
   "metadata": {},
   "source": [
    "The refined spin direction is nearly perfectly perpendicular to the (111) direction, as expected."
   ]
  },
  {
   "cell_type": "markdown",
   "metadata": {},
   "source": [
    "### Faster method: Use masking to avoid having to regenerate spins each iteration"
   ]
  },
  {
   "cell_type": "code",
   "execution_count": null,
   "metadata": {
    "collapsed": true
   },
   "outputs": [],
   "source": [
    "### Make the magnetic structure\n",
    "PDFguiFile = 'MnOpdfgui.ddp'\n",
    "struc = getStrucFromPDFgui(PDFguiFile,1)\n",
    "\n",
    "th0, phi0 = np.arccos(np.random.uniform(-1,1)),np.random.uniform(-np.pi,np.pi)\n",
    "svec = np.array([np.sin(th0)*np.cos(phi0),np.sin(th0)*np.sin(phi0),np.cos(th0)])\n",
    "msp = MagSpecies(struc,magIdxs=[0,1,2,3],ffparamkey='Mn2',rmaxAtoms=50,basisvecs=svec,\n",
    "                kvecs=np.array([0.5,0.5,0.5]),label=str(0))\n",
    "\n",
    "mstr=MagStructure()\n",
    "mstr.loadSpecies(msp)\n",
    "mstr.makeAll()\n",
    "\n",
    "\n",
    "### Get the data and make the calculator\n",
    "r,d = getDiffData(PDFguiFile)\n",
    "\n",
    "mc = MPDFcalculator(mstr)\n",
    "mc.rmin = r.min()\n",
    "mc.rmax = r.max()"
   ]
  },
  {
   "cell_type": "code",
   "execution_count": null,
   "metadata": {
    "collapsed": false
   },
   "outputs": [],
   "source": [
    "### Make the masks\n",
    "upMask = (np.apply_along_axis(np.linalg.norm,1,mstr.spins-svec)<0.1)\n",
    "downMask = ~upMask\n",
    "print mstr.spins[upMask][:4]\n",
    "print mstr.spins[downMask][:4]"
   ]
  },
  {
   "cell_type": "code",
   "execution_count": null,
   "metadata": {
    "collapsed": false
   },
   "outputs": [],
   "source": [
    "def residual(p,ydata):\n",
    "    oscale,pscale,damp,th,phi = p\n",
    "    newsvec = np.array([np.sin(th)*np.cos(phi),np.sin(th)*np.sin(phi),np.cos(th)])\n",
    "    mstr.spins[upMask]=newsvec\n",
    "    mstr.spins[downMask]=-newsvec\n",
    "    mc.ordScale = oscale\n",
    "    mc.paraScale = pscale\n",
    "    mc.dampRate = damp\n",
    "    return ydata - mc.calc(both=True)[2]\n",
    "\n",
    "p0 = [0.1,0.1,0.1,np.arccos(np.random.uniform(-1,1)),np.random.uniform(-np.pi,np.pi)]\n",
    "optimized = least_squares(residual,p0,bounds=[[0,0,0,0,-np.pi],[10,10,10,np.pi,np.pi]],\n",
    "                          args=(d,))\n",
    "fit = mc.calc(both=True)[2]\n",
    "\n",
    "fig=plt.figure()\n",
    "ax=fig.add_subplot(111)\n",
    "ax.plot(r,d,'bo',linestyle='none')\n",
    "ax.plot(r,fit,'r-',lw=2)\n",
    "ax.set_xlabel('r ($\\AA$)')\n",
    "ax.set_ylabel('D($\\AA^{-2}$)')\n",
    "\n",
    "plt.show()    \n",
    "\n",
    "print mstr.spins[0],(mstr.spins[0]).sum()"
   ]
  },
  {
   "cell_type": "code",
   "execution_count": null,
   "metadata": {
    "collapsed": true
   },
   "outputs": [],
   "source": [
    "plt.close('all')"
   ]
  }
 ],
 "metadata": {
  "kernelspec": {
   "display_name": "Python 2",
   "language": "python",
   "name": "python2"
  },
  "language_info": {
   "codemirror_mode": {
    "name": "ipython",
    "version": 2
   },
   "file_extension": ".py",
   "mimetype": "text/x-python",
   "name": "python",
   "nbconvert_exporter": "python",
   "pygments_lexer": "ipython2",
   "version": "2.7.11"
  }
 },
 "nbformat": 4,
 "nbformat_minor": 0
}
