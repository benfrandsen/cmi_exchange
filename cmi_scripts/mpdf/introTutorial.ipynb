{
 "cells": [
  {
   "cell_type": "markdown",
   "metadata": {},
   "source": [
    "# Getting started with diffpy.mpdf"
   ]
  },
  {
   "cell_type": "markdown",
   "metadata": {},
   "source": [
    "The diffpy.mpdf pacakge aims to provide a flexible, object-oriented framework for computing the magnetic PDF from magnetic structures and performing refinements against neutron scattering data. This notebook gives an overview of how the mPDF software is organized and provides introductory examples of computing mPDFs. Additional examples are included on the CMI Exchange."
   ]
  },
  {
   "cell_type": "markdown",
   "metadata": {},
   "source": [
    "# Contents of this tutorial"
   ]
  },
  {
   "cell_type": "markdown",
   "metadata": {},
   "source": [
    "- Class structure of the mpdf package\n",
    "- Simple example: Calculating the mPDF from a spin dimer\n",
    "- Creating a magnetic structure from a CIF file using diffpy.Structure\n",
    "- Creating a magnetic structure by defining your own unit cell\n",
    "- Creating a magnetic structure with multiple species: Simple ferrimagnet\n",
    "- Creating more complex magnetic structures: One-dimensional spin helix\n",
    "- Exploring some of the additional parameters in the mPDF\n",
    "- Simple example of an mPDF fit"
   ]
  },
  {
   "cell_type": "markdown",
   "metadata": {},
   "source": [
    "# Class structure of the mpdf package"
   ]
  },
  {
   "cell_type": "markdown",
   "metadata": {},
   "source": [
    "The mpdf package contains several functions and three classes to aid in the mPDF calculations--the MPDFcalculator class, the MagStructure class, and the optional (but often very useful) MagSpecies class."
   ]
  },
  {
   "cell_type": "markdown",
   "metadata": {},
   "source": [
    "### MagStructure class"
   ]
  },
  {
   "cell_type": "markdown",
   "metadata": {},
   "source": [
    "The main job of a MagStructure object is to contain a numpy array of atomic positions (MagStructure.atoms) and a corresponding numpy array of magnetic moment vectors (MagStructure.spins), which are the only two absolutely required ingredients for calculating the mPDF. Additional optional information such as the Lande g-factor or magnetic form factor can be stored in a MagStructure object if it is needed (as it often is for performing mPDF refinements). A diffpy.Structure object corresponding to the atomic structure of the material can also be stored for convenience when generating the atomic positions and spin vectors. Multiple types of magnetic species (e.g. spins on different ionic sites that may have different moment sizes) can be stored inside a single MagStructure object."
   ]
  },
  {
   "cell_type": "markdown",
   "metadata": {},
   "source": [
    "### MagSpecies class"
   ]
  },
  {
   "cell_type": "markdown",
   "metadata": {},
   "source": [
    "The MagSpecies class is intended to provide an easy way to generate the atomic positions and spin vectors of a particular type of magnetic species in a structure. It takes a diffpy.Structure object and packages additional information pertaining to the magnetic structure, such as the magnetic propagation vector(s), magnetic basis vector(s), spin/orbital quantum numbers, and magnetic form factor. Alternatively, the user can define a unit cell populated with positions and spin orientations of the magnetic atoms, and this will be used rather than a diffpy.Structure object. The structural information is used in class methods that automatically generate the atomic positions and corresponding spin vectors, which can then be stored in a MagStructure object. There are no limits on the number of propagation and basis vectors, allowing for arbitrarily complex magnetic structures. MagSpecies objects can be loaded directly into a MagStructure object or created from inside the MagStructure object. Although a magSpecies object is not required to calculate the mPDF, it will usually provide the easiest way to populate the atom and spin arrays that are required for the mPDF. The reason for having separate MagStructure and MagSpecies classes is that a single magnetic structure may contain multiple magnetic species."
   ]
  },
  {
   "cell_type": "markdown",
   "metadata": {},
   "source": [
    "### MPDFcalculator class"
   ]
  },
  {
   "cell_type": "markdown",
   "metadata": {},
   "source": [
    "The MPDFcalculator class handles the details of the calculation and contains information that is not directly related to the magnetic structure, such as the real-space calculation range, any damping or broadening profile to be applied to the mPDF, scale factors, and experimental parameters like q<sub>min</sub> and q<sub>max</sub>. It requires a MagStructure object as input, from which it extracts the atomic positions and spin vectors to be used in calculating the mPDF. The mPDFcalculator class has options for calculating both the properly normalized and the unnormalized mPDF (the unnormalized mPDF is frequently what we obtain experimentally)."
   ]
  },
  {
   "cell_type": "markdown",
   "metadata": {},
   "source": [
    "## Simple example: Calculating the mPDF from a pair of spins"
   ]
  },
  {
   "cell_type": "markdown",
   "metadata": {},
   "source": [
    "We will now create a very simple magnetic structure consisting of just two spins and then calculate the corresponding mPDF."
   ]
  },
  {
   "cell_type": "code",
   "execution_count": null,
   "metadata": {
    "collapsed": true
   },
   "outputs": [],
   "source": [
    "### Import the necessary libraries\n",
    "import numpy as np\n",
    "import matplotlib.pyplot as plt\n",
    "from diffpy.mpdf import *\n",
    "from diffpy.Structure import loadStructure\n",
    "\n",
    "### Set all plots to be inline\n",
    "%matplotlib notebook"
   ]
  },
  {
   "cell_type": "code",
   "execution_count": null,
   "metadata": {
    "collapsed": false
   },
   "outputs": [],
   "source": [
    "### Create a MagStructure object\n",
    "mstruc = MagStructure()\n",
    "\n",
    "### Create two atoms in the structure\n",
    "mstruc.atoms = np.array([[0,0,0],[4,0,0]])\n",
    "\n",
    "### Create two spin vectors corresponding to the atoms. Let's make them antiferromagnetic.\n",
    "S=np.array([0,0,1])\n",
    "mstruc.spins = np.array([S,-S])\n",
    "\n",
    "### Create the MPDFcalculator object and load the magnetic structure into it\n",
    "mc = MPDFcalculator(mstruc)\n",
    "\n",
    "### Calculate and plot the mPDF!\n",
    "r,fr = mc.calc() # Use calc() if you want to extract the numerical results of the calculation\n",
    "mc.plot() # Use plot() if you just want to plot the mPDF without extracting the numerical arrays."
   ]
  },
  {
   "cell_type": "markdown",
   "metadata": {},
   "source": [
    "Note that the negative peak at 4 Angstroms is due to the antiferromagnetic orientation of the spins. The sloping baseline at low-r is real and is a unique feature of the mPDF that is not found in the atomic PDF.\n",
    "\n",
    "Just for fun, let's now make a copy of this structure but make the dimer ferromagnetic instead of antiferromagnetic."
   ]
  },
  {
   "cell_type": "code",
   "execution_count": null,
   "metadata": {
    "collapsed": false
   },
   "outputs": [],
   "source": [
    "### make a copy of the magnetic structure\n",
    "mstruc2 = mstruc.copy()\n",
    "\n",
    "### Set the spins to be ferromagnetic\n",
    "mstruc2.spins = np.array([S,S])\n",
    "\n",
    "### Create another mPDF calculator\n",
    "mc2 = MPDFcalculator(mstruc2)\n",
    "\n",
    "### Calculate the mPDF\n",
    "r2, fr2 = mc2.calc()\n",
    "\n",
    "### Compare the antiferromagnetic and ferromagnetic mPDFs\n",
    "fig = plt.figure()\n",
    "ax = fig.add_subplot(111)\n",
    "\n",
    "ax.plot(r,fr,'b-',label='Antiferro')\n",
    "ax.plot(r2,fr2,'r-',label='Ferro')\n",
    "\n",
    "ax.set_xlabel(r'r ($\\AA$)')\n",
    "ax.set_ylabel(r'f ($\\AA^{-2}$)')\n",
    "\n",
    "plt.legend()\n",
    "\n",
    "plt.show()"
   ]
  },
  {
   "cell_type": "code",
   "execution_count": null,
   "metadata": {
    "collapsed": true
   },
   "outputs": [],
   "source": [
    "plt.close('all')"
   ]
  },
  {
   "cell_type": "markdown",
   "metadata": {},
   "source": [
    "## Creating a magnetic structure from a CIF file using diffpy.Structure"
   ]
  },
  {
   "cell_type": "markdown",
   "metadata": {},
   "source": [
    "This example will show how to use the MagSpecies class and additional features in the MagStructure class to quickly generate the atomic positions and spin vectors from a diffpy.Structure object. It will also show how to calculate the unnormalized mPDF, which is useful for comparison to and refinement against neutron total scattering data."
   ]
  },
  {
   "cell_type": "markdown",
   "metadata": {},
   "source": [
    "### Load the atomic structure from the CIF file"
   ]
  },
  {
   "cell_type": "code",
   "execution_count": null,
   "metadata": {
    "collapsed": false
   },
   "outputs": [],
   "source": [
    "### Now let's create a diffpy.Structure object from a CIF file for MnO. This has all the atomic information,\n",
    "### but none of the magnetic information. Note that a .stru file generated from PDFgui or diffpy.Structure\n",
    "### would also work just as well.\n",
    "mno = loadStructure('MnO_cubic.cif')"
   ]
  },
  {
   "cell_type": "code",
   "execution_count": null,
   "metadata": {
    "collapsed": false
   },
   "outputs": [],
   "source": [
    "### As a refresher, let's take a look at the mno structure object.\n",
    "print mno"
   ]
  },
  {
   "cell_type": "markdown",
   "metadata": {},
   "source": [
    "### Create the MagSpecies object"
   ]
  },
  {
   "cell_type": "code",
   "execution_count": null,
   "metadata": {
    "collapsed": true
   },
   "outputs": [],
   "source": [
    "### We will now create a MagSpecies object to extend the mno structure object.\n",
    "mspec = MagSpecies()\n",
    "\n",
    "### Load the mno structure and give the magnetic species a label\n",
    "mspec.struc = mno\n",
    "mspec.label = 'Mn2+'\n",
    "\n",
    "### Now we need to tell it which atoms in MnO are magnetic. From the printed list in the previous cell,\n",
    "### the magnetic Mn ions are the first four positions in the structure, so we provide the corresponding indices.\n",
    "mspec.magIdxs = [0,1,2,3]\n",
    "\n",
    "### Now we provide the magnetic propagation and basis vectors, which are known from previous neutron\n",
    "### diffraction studies of MnO.\n",
    "k = np.array([0.5,0.5,0.5])\n",
    "s = np.array([1,-1,0]) # we won't worry about the magnitude of the basis vector for now\n",
    "mspec.kvecs = np.array([k])\n",
    "mspec.basisvecs = np.array([s])\n",
    "\n",
    "### Now we provide information about the magnetic form factor. We tell the MagSpecies object the type of magnetic\n",
    "### ion, and it looks up magnetic form factor in a table.\n",
    "mspec.ffparamkey = 'Mn2'"
   ]
  },
  {
   "cell_type": "markdown",
   "metadata": {},
   "source": [
    "### Create the MagStructure object"
   ]
  },
  {
   "cell_type": "code",
   "execution_count": null,
   "metadata": {
    "collapsed": false
   },
   "outputs": [],
   "source": [
    "### Now we can create a MagStructure object and load mnoMag into it.\n",
    "mstruc = MagStructure()\n",
    "mstruc.loadSpecies(mspec)\n",
    "### Now we will generate the atomic positions and spins. It is important to do the atoms first, since the\n",
    "### spins are generated by applying the propagation and basis vectors to the atomic positions. These methods\n",
    "### use the information contained in the atomic and magnetic structures to generate arrays of atomic positions\n",
    "### and spin vectors.\n",
    "mstruc.makeAtoms()\n",
    "mstruc.makeSpins()\n",
    "\n",
    "### And we make the magnetic form factor:\n",
    "mstruc.makeFF()"
   ]
  },
  {
   "cell_type": "markdown",
   "metadata": {},
   "source": [
    "### View the magnetic structure"
   ]
  },
  {
   "cell_type": "code",
   "execution_count": null,
   "metadata": {
    "collapsed": false
   },
   "outputs": [],
   "source": [
    "uc = mno[:4].xyz\n",
    "visatoms = uc.copy()\n",
    "visatoms = np.concatenate((visatoms,visatoms+np.array([0,0,1]),visatoms+np.array([0,1,0]),visatoms+np.array([0,0,1])))\n",
    "visatoms = mno.lattice.cartesian(visatoms)\n",
    "visspins = mstruc.spinsFromAtoms(visatoms,fractional=False)\n",
    "mstruc.visualize(visatoms,visspins)"
   ]
  },
  {
   "cell_type": "code",
   "execution_count": null,
   "metadata": {
    "collapsed": false
   },
   "outputs": [],
   "source": [
    "### Now we can create the mPDF calculator and load the magnetic structure\n",
    "mc = MPDFcalculator()\n",
    "mc.magstruc = mstruc\n",
    "\n",
    "### Plot the mPDF\n",
    "mc.plot()"
   ]
  },
  {
   "cell_type": "code",
   "execution_count": null,
   "metadata": {
    "collapsed": true
   },
   "outputs": [],
   "source": [
    "plt.close('all')"
   ]
  },
  {
   "cell_type": "markdown",
   "metadata": {},
   "source": [
    "# Creating a magnetic structure by defining your own unit cell"
   ]
  },
  {
   "cell_type": "markdown",
   "metadata": {},
   "source": [
    "This example will show you how to create a magnetic structure from a unit cell that you define yourself. You will have to provide the lattice vectors, the positions of the magnetic atoms in the unit cell, and the magnetic moments corresponding to those atoms."
   ]
  },
  {
   "cell_type": "code",
   "execution_count": null,
   "metadata": {
    "collapsed": false
   },
   "outputs": [],
   "source": [
    "### Create the magnetic species and turn off the diffpy.structure option.\n",
    "mspec = MagSpecies(useDiffpyStruc=False)\n",
    "\n",
    "### Define the lattice vectors of the unit cell. Let's make a cubic unit cell.\n",
    "a = 4.0\n",
    "mspec.latVecs = np.array([[a,0,0], [0,a,0], [0,0,a]])\n",
    "\n",
    "### Define the positions of the magnetic atoms in the unit cell (in fractional coordinates). Let's make\n",
    "### We'll make a body-centered structure.\n",
    "mspec.atomBasis = np.array([[0,0,0], [0.5,0.5,0.5]])\n",
    "\n",
    "### Define the magnetic moments in the same order as the list of atoms.\n",
    "### Let's make an antiferromagnet.\n",
    "mspec.spinBasis = np.array([[0,0,1], [0,0,-1]])\n",
    "\n",
    "\n",
    "### Create the magnetic structure object and load mspec.\n",
    "mstruc = MagStructure()\n",
    "mstruc.loadSpecies(mspec)\n",
    "mstruc.makeAtoms()\n",
    "mstruc.makeSpins()\n",
    "\n",
    "### Let's visualize the first unit cell to make sure we have what we expect.\n",
    "visAtoms = np.array([[0,0,0],[a,0,0],[0,a,0],[0,0,a],[a,a,0],\n",
    "                     [a,0,a],[0,a,a],[a,a,a],[0.5*a,0.5*a,0.5*a]])\n",
    "visSpins = mstruc.spinsFromAtoms(visAtoms, fractional=False)\n",
    "mstruc.visualize(visAtoms, visSpins)"
   ]
  },
  {
   "cell_type": "code",
   "execution_count": null,
   "metadata": {
    "collapsed": false
   },
   "outputs": [],
   "source": [
    "### Now we can set up the MPDFcalculator and plot the mPDF.\n",
    "mc = MPDFcalculator(mstruc)\n",
    "mc.plot()"
   ]
  },
  {
   "cell_type": "code",
   "execution_count": null,
   "metadata": {
    "collapsed": true
   },
   "outputs": [],
   "source": [
    "plt.close('all')"
   ]
  },
  {
   "cell_type": "markdown",
   "metadata": {},
   "source": [
    "# Creating a magnetic structure with multiple species: Simple ferrimagnet"
   ]
  },
  {
   "cell_type": "markdown",
   "metadata": {},
   "source": [
    "We will create a ferrimagnetic structure to illustrate the use of multiple magnetic species within a single magnetic structure. Let's build another antiferromagnetic body-centered cubic structure but with two different spin species, one with a large moment and one with a small moment."
   ]
  },
  {
   "cell_type": "markdown",
   "metadata": {},
   "source": [
    "### Make a magnetic species with a large moment"
   ]
  },
  {
   "cell_type": "code",
   "execution_count": null,
   "metadata": {
    "collapsed": false
   },
   "outputs": [],
   "source": [
    "### Create the first magnetic species and turn off the diffpy.structure option.\n",
    "mspec1 = MagSpecies(useDiffpyStruc=False)\n",
    "\n",
    "### Define the lattice vectors of the unit cell. Let's make a cubic unit cell.\n",
    "a = 4.0\n",
    "mspec1.latVecs = np.array([[a,0,0],[0,a,0],[0,0,a]])\n",
    "\n",
    "### Define the atomic position and magnetic moment.\n",
    "mspec1.atomBasis = np.array([0,0,0])\n",
    "mspec1.spinBasis = np.array([0,0,1])\n",
    "mspec1.label = 'big' ### it is necessary to define unique identifying labels when you have multiple species"
   ]
  },
  {
   "cell_type": "markdown",
   "metadata": {},
   "source": [
    "### Make a magnetic species with a small moment"
   ]
  },
  {
   "cell_type": "code",
   "execution_count": null,
   "metadata": {
    "collapsed": true
   },
   "outputs": [],
   "source": [
    "### Now make the other species, starting with mspec1 as a template\n",
    "mspec2 = mspec1.copy()\n",
    "mspec2.atomBasis = np.array([0.5,0.5,0.5])\n",
    "mspec2.spinBasis = np.array([0,0,-0.25])\n",
    "mspec2.label = 'small'"
   ]
  },
  {
   "cell_type": "markdown",
   "metadata": {},
   "source": [
    "### Create and view the magnetic structure"
   ]
  },
  {
   "cell_type": "code",
   "execution_count": null,
   "metadata": {
    "collapsed": false
   },
   "outputs": [],
   "source": [
    "### Create the magnetic structure object and load the species.\n",
    "mstruc = MagStructure()\n",
    "mstruc.loadSpecies(mspec1)\n",
    "mstruc.loadSpecies(mspec2)\n",
    "mstruc.makeAll()\n",
    "\n",
    "### Again, let's visualize the first unit cell to make sure we have what we expect.\n",
    "visAtoms = np.array([[0,0,0],[a,0,0],[0,a,0],[0,0,a],[a,a,0],[a,0,a],[0,a,a],[a,a,a],[0.5*a,0.5*a,0.5*a]])\n",
    "visSpins = mstruc.spinsFromAtoms(visAtoms, fractional=False)\n",
    "mstruc.visualize(visAtoms, visSpins, showcrystalaxes=True, axesorigin=np.array([-1,-1,-1]))"
   ]
  },
  {
   "cell_type": "markdown",
   "metadata": {},
   "source": [
    "### Calculate the mPDF"
   ]
  },
  {
   "cell_type": "code",
   "execution_count": null,
   "metadata": {
    "collapsed": false
   },
   "outputs": [],
   "source": [
    "### Now we can set up the MPDFcalculator and plot the mPDF.\n",
    "mc = MPDFcalculator(mstruc)\n",
    "\n",
    "### Important: since we have two different magnetic species, we must be sure that the calculation\n",
    "### uses an equivalent number of spins from each species as the \"center\" of the calculation.\n",
    "### We do this by changing the calcList attribute of the MPDFcalculator, which is a list of the \n",
    "### indices of the atoms/spins to be used as the centers for the calculation. To find the starting\n",
    "### index of each species, use the getSpeciesIdxs method on the magnetic structure.\n",
    "\n",
    "mc.calcList = mstruc.getSpeciesIdxs().values()\n",
    "print mc.calcList\n",
    "\n",
    "### Now we can plot.\n",
    "mc.plot()"
   ]
  },
  {
   "cell_type": "code",
   "execution_count": null,
   "metadata": {
    "collapsed": true
   },
   "outputs": [],
   "source": [
    "plt.close('all')"
   ]
  },
  {
   "cell_type": "markdown",
   "metadata": {},
   "source": [
    "## Creating more complex magnetic structures: One-dimensional spin helix"
   ]
  },
  {
   "cell_type": "markdown",
   "metadata": {},
   "source": [
    "This example shows how to use multiple magnetic propagation vectors to create a non-collinear magnetic structure--in this case, a one-dimensional spin helix."
   ]
  },
  {
   "cell_type": "code",
   "execution_count": null,
   "metadata": {
    "collapsed": false
   },
   "outputs": [],
   "source": [
    "### We will load in a structure from a CIF file and modify it to simulate a 1-D material.\n",
    "astruc = loadStructure(\"MnO_cubic.cif\")\n",
    "astruc.lattice.a = 3.0\n",
    "astruc.lattice.b = 150.0\n",
    "astruc.lattice.c = 150.0\n",
    "\n",
    "### Create the magnetic species object.\n",
    "helix = MagSpecies(astruc)\n",
    "\n",
    "### Set up the magnetic propagation and basis vectors for a helical spin configuration.\n",
    "k = np.array([np.sqrt(2)/10,0,0]) # make the period incommensurate with the lattice\n",
    "helix.kvecs=np.array([k, -k])\n",
    "\n",
    "Sk = 0.5*(np.array([0,0,1])+0.5j*np.array([0,1,0])) # j is the numpy symbol for the imaginary unit\n",
    "helix.basisvecs = np.array([Sk,Sk.conj()])\n",
    "\n",
    "### Populate with atoms and spins.\n",
    "helix.rmaxAtoms = 70.0\n",
    "helix.makeAtoms()\n",
    "helix.makeSpins()\n",
    "helix.label = 'helix'\n",
    "\n",
    "### Create the magnetic structure object.\n",
    "mstruc = MagStructure()\n",
    "mstruc.loadSpecies(helix)\n",
    "\n",
    "#### Visualize the spins.\n",
    "x,y,z = mstruc.atoms.transpose()\n",
    "mask = np.logical_and(z==0,np.logical_and(y==0,np.abs(x)<30))\n",
    "visatoms = mstruc.atoms[mask]\n",
    "visspins = spinsFromAtoms(mstruc, visatoms, fractional=False)\n",
    "mstruc.visualize(visatoms, visspins)"
   ]
  },
  {
   "cell_type": "code",
   "execution_count": null,
   "metadata": {
    "collapsed": false
   },
   "outputs": [],
   "source": [
    "### Now plot the mPDF.\n",
    "mc = MPDFcalculator(mstruc)\n",
    "mc.rmax=70.0\n",
    "\n",
    "mc.plot()"
   ]
  },
  {
   "cell_type": "code",
   "execution_count": null,
   "metadata": {
    "collapsed": true
   },
   "outputs": [],
   "source": [
    "plt.close('all')"
   ]
  },
  {
   "cell_type": "markdown",
   "metadata": {},
   "source": [
    "## Exploring some of the additional parameters in the mPDF"
   ]
  },
  {
   "cell_type": "markdown",
   "metadata": {},
   "source": [
    "Now we will take a look at some of the other aspects of the mPDF that can be adjusted, including:\n",
    "- Whether the normalized mPDF, unnormalized mPDF, or both are calculated (see Acta A REF)\n",
    "- Qmax to simulate experimental conditions.\n",
    "- Parameters that dampen and/or broaden the mPDF, simulating the effects of thermal motion and instrumental resolution.\n",
    "- \"Ordered\" scale factor corresponding to the magnitude of the locally ordered moment, and \"paramagnetic\" scale factor which depends only on the magnitude and spatial extent of a single localized moment, not any correlations between moments.\n",
    "- The r-range for the calculation.\n",
    "\n",
    "For this, we will create the antiferromagnetic MnO structure again."
   ]
  },
  {
   "cell_type": "markdown",
   "metadata": {},
   "source": [
    "### Create the MnO magnetic structure"
   ]
  },
  {
   "cell_type": "code",
   "execution_count": null,
   "metadata": {
    "collapsed": false
   },
   "outputs": [],
   "source": [
    "### Create the diffpy structure, MagSpecies, and MagStructure\n",
    "mno = loadStructure('MnO_cubic.cif')\n",
    "\n",
    "mspec = MagSpecies(mno, magIdxs=[0,1,2,3], label='Mn2+', ffparamkey='Mn2')\n",
    "mspec.kvecs = np.array([0.5,0.5,0.5])\n",
    "mspec.basisvecs = np.array([1,-1,0])\n",
    "\n",
    "mstruc = MagStructure()\n",
    "mstruc.loadSpecies(mspec)\n",
    "mstruc.makeAll()"
   ]
  },
  {
   "cell_type": "markdown",
   "metadata": {},
   "source": [
    "### Calculate the normalized and unnormalized mPDFs"
   ]
  },
  {
   "cell_type": "code",
   "execution_count": null,
   "metadata": {
    "collapsed": false
   },
   "outputs": [],
   "source": [
    "mc = MPDFcalculator(mstruc)\n",
    "r, fr = mc.calc() ### by default, just the normalized mPDF is calculated\n",
    "r, dr = mc.calc(normalized=False) ### setting the normalized arg to False calculates the unnormalized mPDF\n",
    "\n",
    "### Let's compare the two quantities\n",
    "\n",
    "fig = plt.figure()\n",
    "ax = fig.add_subplot(111)\n",
    "\n",
    "ax.plot(r, fr/fr.max(), 'b-', label='Normalized')\n",
    "ax.plot(r, dr/dr.max(), 'r-', label='Unnormalized')\n",
    "\n",
    "ax.set_xlabel(r'r ($\\AA$)')\n",
    "ax.set_ylabel(r'f ($\\AA^{-2}$)')\n",
    "\n",
    "plt.legend(loc='best')\n",
    "plt.tight_layout()\n",
    "plt.show()\n",
    "\n",
    "### Or you can calculate them both together:\n",
    "r, fr, dr = mc.calc(both=True)"
   ]
  },
  {
   "cell_type": "markdown",
   "metadata": {},
   "source": [
    "### Model the effect of finite Qmax"
   ]
  },
  {
   "cell_type": "code",
   "execution_count": null,
   "metadata": {
    "collapsed": false
   },
   "outputs": [],
   "source": [
    "### Default mPDF calculator\n",
    "mc = MPDFcalculator(mstruc)\n",
    "r, fr = mc.calc()\n",
    "\n",
    "### Adjust qmax to simulate termination ripples\n",
    "mcQ = mc.copy()\n",
    "mcQ.qmax = 25.0\n",
    "rq,frq = mcQ.calc()\n",
    "\n",
    "fig = plt.figure()\n",
    "ax = fig.add_subplot(111)\n",
    "\n",
    "ax.plot(r, fr, 'b-', label='Default')\n",
    "ax.plot(rq, frq, 'r-', label='With qmax')\n",
    "ax.plot(r, frq-fr-35, 'g-', label='Difference')\n",
    "\n",
    "ax.set_xlabel(r'r ($\\AA$)')\n",
    "ax.set_ylabel(r'f ($\\AA^{-2}$)')\n",
    "\n",
    "plt.legend(loc='best')\n",
    "plt.show()"
   ]
  },
  {
   "cell_type": "markdown",
   "metadata": {},
   "source": [
    "### Change the intrinisic mPDF peak width"
   ]
  },
  {
   "cell_type": "code",
   "execution_count": null,
   "metadata": {
    "collapsed": false
   },
   "outputs": [],
   "source": [
    "### Change the intrinsic mPDF peak width to simulate thermal motion\n",
    "### and/or instrumental limitations.\n",
    "mcB = mc.copy()\n",
    "mcB.gaussPeakWidth = 0.15 # in Angstroms; default is 0.1\n",
    "rB, frB = mcB.calc()\n",
    "\n",
    "fig = plt.figure()\n",
    "ax = fig.add_subplot(111)\n",
    "\n",
    "ax.plot(r, fr, 'b-', label='Default')\n",
    "ax.plot(rB, frB, 'r-', label='Broadened')\n",
    "ax.plot(r,frB - fr - 35, 'g-', label='Difference')\n",
    "ax.set_xlabel(r'r ($\\AA$)')\n",
    "ax.set_ylabel(r'f ($\\AA^{-2}$)')\n",
    "\n",
    "plt.legend(loc='best')\n",
    "plt.show()"
   ]
  },
  {
   "cell_type": "markdown",
   "metadata": {},
   "source": [
    "### Introduce a damping envelope"
   ]
  },
  {
   "cell_type": "code",
   "execution_count": null,
   "metadata": {
    "collapsed": false
   },
   "outputs": [],
   "source": [
    "### Include a damping factor to simulate a finite correlation length\n",
    "### and/or instrumental resolution effects.\n",
    "mcD = mc.copy()\n",
    "mcD.dampRate = 0.075 # in inverse Angstroms\n",
    "rD, frD = mcD.calc()\n",
    "\n",
    "fig = plt.figure()\n",
    "ax = fig.add_subplot(111)\n",
    "\n",
    "ax.plot(r, fr, 'b-', label='Default')\n",
    "ax.plot(rD, frD, 'r-', label='Damped')\n",
    "ax.set_xlabel(r'r ($\\AA$)')\n",
    "ax.set_ylabel(r'f ($\\AA^{-2}$)')\n",
    "\n",
    "plt.legend(loc='best')\n",
    "plt.show()"
   ]
  },
  {
   "cell_type": "markdown",
   "metadata": {},
   "source": [
    "### Change the ordered scale factor"
   ]
  },
  {
   "cell_type": "code",
   "execution_count": null,
   "metadata": {
    "collapsed": false
   },
   "outputs": [],
   "source": [
    "### Reduce the ordered scale factor, simulating a reduced ordered moment.\n",
    "mcS = mc.copy()\n",
    "mcS.ordScale = 0.5*mc.ordScale\n",
    "rS, frS, drS = mcS.calc(both=True) # both the normalized and unnormalized mPDF\n",
    "\n",
    "fig = plt.figure()\n",
    "ax = fig.add_subplot(111)\n",
    "\n",
    "ax.plot(r, dr, 'b-', label='Default')\n",
    "ax.plot(rS, drS, 'r-', label='Reduced scale factor')\n",
    "ax.set_xlabel(r'r ($\\AA$)')\n",
    "ax.set_ylabel(r'd ($\\AA^{-2}$)')\n",
    "\n",
    "plt.legend(loc='best')\n",
    "plt.show()"
   ]
  },
  {
   "cell_type": "markdown",
   "metadata": {},
   "source": [
    "### Change the calculation range"
   ]
  },
  {
   "cell_type": "code",
   "execution_count": null,
   "metadata": {
    "collapsed": false
   },
   "outputs": [],
   "source": [
    "### Change the r-range for the calculation from 20 Angstroms (default) to 40.\n",
    "mcL = mc.copy()\n",
    "mcL.rmax = 40 # in Angstroms\n",
    "\n",
    "### Since the r-range is longer, we also need to re-generate the atoms and spins\n",
    "### to fill a sphere of at least radius 40 Angstroms. The code below does this.\n",
    "mcL.magstruc.species['Mn2+'].rmaxAtoms = 50\n",
    "mcL.magstruc.makeAll()\n",
    "\n",
    "rL,frL,drL = mcL.calc(both=True)\n",
    "\n",
    "fig = plt.figure()\n",
    "ax = fig.add_subplot(111)\n",
    "\n",
    "ax.plot(r, dr, 'bo', label='Default')\n",
    "ax.plot(rL, drL, 'r-', label='Longer r-grid',lw=2)\n",
    "ax.set_xlabel(r'r ($\\AA$)')\n",
    "ax.set_ylabel(r'd ($\\AA^{-2}$)')\n",
    "\n",
    "plt.legend(loc='best')\n",
    "plt.show()"
   ]
  },
  {
   "cell_type": "code",
   "execution_count": null,
   "metadata": {
    "collapsed": true
   },
   "outputs": [],
   "source": [
    "plt.close('all')"
   ]
  },
  {
   "cell_type": "markdown",
   "metadata": {},
   "source": [
    "# Simple example of an mPDF fit"
   ]
  },
  {
   "cell_type": "markdown",
   "metadata": {},
   "source": [
    "Here, we will provide an example of doing a very basic mPDF fit to actual experimental data taken on MnO. The initial structural PDF was refined using PDFgui, and now we use the residual of that structural fit as the dataset against which the mPDF will be refined. To keep things simple, we will just refine the scale factors here."
   ]
  },
  {
   "cell_type": "markdown",
   "metadata": {},
   "source": [
    "### Extract the refined atomic structure from the PDFgui file"
   ]
  },
  {
   "cell_type": "code",
   "execution_count": null,
   "metadata": {
    "collapsed": true
   },
   "outputs": [],
   "source": [
    "PDFguiFile = 'MnOpdfgui.ddp'\n",
    "struc = getStrucFromPDFgui(PDFguiFile,1)"
   ]
  },
  {
   "cell_type": "markdown",
   "metadata": {},
   "source": [
    "### Make the magneitc structure"
   ]
  },
  {
   "cell_type": "code",
   "execution_count": null,
   "metadata": {
    "collapsed": false
   },
   "outputs": [],
   "source": [
    "svec = np.array([1.0,-1.0,0.0])\n",
    "msp = MagSpecies(struc,magIdxs=[0,1,2,3],ffparamkey='Mn2',rmaxAtoms=50,basisvecs=svec,\n",
    "                kvecs=np.array([0.5,0.5,0.5]),label=str(0))\n",
    "\n",
    "mstr=MagStructure()\n",
    "mstr.loadSpecies(msp)\n",
    "mstr.makeAll()\n",
    "\n",
    "### Visualize the magnetic structure\n",
    "uc = struc[:4].xyz\n",
    "visatoms = uc.copy()\n",
    "visatoms = np.concatenate((visatoms,visatoms+np.array([0,0,1]),visatoms+np.array([0,1,0]),visatoms+np.array([0,0,1])))\n",
    "visatoms = struc.lattice.cartesian(visatoms)\n",
    "visspins = mstr.spinsFromAtoms(visatoms,fractional=False)\n",
    "mstr.visualize(visatoms,visspins)"
   ]
  },
  {
   "cell_type": "markdown",
   "metadata": {},
   "source": [
    "### Extract the mPDF data and make the MPDFcalculator"
   ]
  },
  {
   "cell_type": "code",
   "execution_count": null,
   "metadata": {
    "collapsed": true
   },
   "outputs": [],
   "source": [
    "r,d = getDiffData(PDFguiFile) ### extract the fit residual from the atomic PDF fit done in PDFgui\n",
    "\n",
    "mc = MPDFcalculator(mstr)\n",
    "mc.rmin = r.min()\n",
    "mc.rmax = r.max()"
   ]
  },
  {
   "cell_type": "markdown",
   "metadata": {},
   "source": [
    "### Refine the magnetic structure (just scale factor and damping rate for now)"
   ]
  },
  {
   "cell_type": "code",
   "execution_count": null,
   "metadata": {
    "collapsed": false
   },
   "outputs": [],
   "source": [
    "from scipy.optimize import least_squares\n",
    "\n",
    "def residual(p,ydata):\n",
    "    oscale,pscale,damp = p\n",
    "    mc.ordScale = oscale\n",
    "    mc.paraScale = pscale\n",
    "    mc.dampRate = damp\n",
    "    return ydata - mc.calc(both=True)[2]\n",
    "\n",
    "p0 = [0.1,0.1,0.1]\n",
    "optimized = least_squares(residual,p0,bounds=[[0,0,0],[10,10,10]],args=(d,))\n",
    "fit = mc.calc(both=True)[2]\n",
    "\n",
    "fig=plt.figure()\n",
    "ax=fig.add_subplot(111)\n",
    "ax.plot(r,d,'bo',linestyle='none')\n",
    "ax.plot(r,fit,'r-',lw=2)\n",
    "ax.set_xlabel('r ($\\AA$)')\n",
    "ax.set_ylabel('D($\\AA^{-2}$)')\n",
    "\n",
    "plt.show()    \n",
    "\n",
    "print optimized.x"
   ]
  },
  {
   "cell_type": "markdown",
   "metadata": {},
   "source": [
    "### Plot the atomic refinement along with the magnetic refinement"
   ]
  },
  {
   "cell_type": "code",
   "execution_count": null,
   "metadata": {
    "collapsed": false
   },
   "outputs": [],
   "source": [
    "from diffpy.pdfgui import tui ### useful library to interact with PDFgui projects\n",
    "prj = tui.LoadProject(PDFguiFile)\n",
    "fitObj = prj.getFits()[0]\n",
    "dataSet = fitObj.getDataSet(0)\n",
    "gobs = np.array(dataSet.Gobs)\n",
    "robs = np.array(dataSet.robs)\n",
    "mask = np.logical_and(robs>r.min()-0.001,robs<r.max()+0.001)\n",
    "gobs = gobs[mask]\n",
    "gcalc = np.array(dataSet.Gcalc)\n",
    "mdiff = fit - d\n",
    "\n",
    "offset1 = 1.2*gobs.min()\n",
    "offset2 = offset1 - 8*mdiff.max()\n",
    "\n",
    "# Make the figure.\n",
    "fig = plt.figure()\n",
    "ax = fig.add_subplot(111)\n",
    "ax.plot(r,gobs,marker='o',mfc='none',mec='b',linestyle='none') ### total observed PDF pattern \n",
    "ax.plot(r,gcalc,'r-',lw=2) ### calculated atomic PDF\n",
    "ax.plot(r,d+offset1,marker='o',mfc='none',mec='b',linestyle='none') ### residual from atomic PDF fit\n",
    "ax.plot(r,fit+offset1,'r-',lw=2) ### calculated mPDF\n",
    "ax.plot(r,np.zeros_like(r)+offset2,'k:')\n",
    "ax.plot(r,mdiff+offset2,'g-') ### overall fit residual after including atomic and magnetic PDFs\n",
    "ax.set_xlim(xmin=0,xmax=mc.rmax)\n",
    "ax.set_xlabel('r ($\\AA$)')\n",
    "ax.set_ylabel('G, d ($\\AA^{-2}$)')\n",
    "\n",
    "plt.show()"
   ]
  },
  {
   "cell_type": "markdown",
   "metadata": {},
   "source": [
    "### Compare the magnetic and nuclear scale factors to determine the moment size"
   ]
  },
  {
   "cell_type": "markdown",
   "metadata": {},
   "source": [
    "If we call $A$ the nuclear scale factor, $B$ the mPDF ordered scale factor, $n_s$ the fraction of atoms in the system that are magnetic, and $\\langle b \\rangle$ the average nuclear scattering length, then the magnitude of the refined moment $\\mathrm{S_{fit}}$ is related to the nominal magnitude of the spin vectors $\\mathrm{S_{nom}}$ used in the magnetic structure through the equation $\\mathrm{S_{fit}} = \\sqrt{\\frac{\\mathrm{B}\\langle b \\rangle ^2}{\\mathrm{A} n_s}} \\mathrm{S_{nom}}$. When multiplied by the g factor (e.g. 2 for pure spins without any orbital contributions to the moment), this gives the ordered moment in Bohr magnetons."
   ]
  },
  {
   "cell_type": "code",
   "execution_count": null,
   "metadata": {
    "collapsed": false
   },
   "outputs": [],
   "source": [
    "nucScale = 0.9518 ### refined nuclear scale factor taken from PDFgui\n",
    "\n",
    "### calculate the average nuclear scattering length\n",
    "import periodictable as pt ### useful python package included in your installation of diffpy.mpdf\n",
    "bMn = pt.Mn.neutron.b_c\n",
    "bO = pt.O.neutron.b_c\n",
    "bAvg = 0.5*bMn+0.5*bO\n",
    "\n",
    "### define the ratio of magnetic atoms to total atoms in MnO\n",
    "ns = 0.5\n",
    "\n",
    "### determine the nominal spin quantum number from your structure\n",
    "Snom = np.linalg.norm(mstr.spins[0])\n",
    "\n",
    "### calculate the refined value of the spin quantum number\n",
    "Sfit = np.sqrt(mc.ordScale*bAvg**2/(nucScale*ns))*Snom\n",
    "print Sfit"
   ]
  },
  {
   "cell_type": "markdown",
   "metadata": {},
   "source": [
    "This is fairly consistent with our expectation of S = 5/2 for Mn2+."
   ]
  },
  {
   "cell_type": "code",
   "execution_count": null,
   "metadata": {
    "collapsed": true
   },
   "outputs": [],
   "source": [
    "plt.close('all')"
   ]
  },
  {
   "cell_type": "markdown",
   "metadata": {},
   "source": [
    "### This concludes the introductory tutorial for diffpy.mpdf. Try out the other example scripts to gain more familiarity with the package, such as how to do a simultaneous co-refinement of the PDF and mPDF. Then go on and use these tools for your own data!"
   ]
  }
 ],
 "metadata": {
  "kernelspec": {
   "display_name": "Python 2",
   "language": "python",
   "name": "python2"
  },
  "language_info": {
   "codemirror_mode": {
    "name": "ipython",
    "version": 2
   },
   "file_extension": ".py",
   "mimetype": "text/x-python",
   "name": "python",
   "nbconvert_exporter": "python",
   "pygments_lexer": "ipython2",
   "version": "2.7.11"
  }
 },
 "nbformat": 4,
 "nbformat_minor": 0
}
